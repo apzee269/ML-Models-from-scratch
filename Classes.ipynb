{
 "cells": [
  {
   "cell_type": "markdown",
   "id": "b90795f3",
   "metadata": {},
   "source": [
    "# Simple Linear Regression"
   ]
  },
  {
   "cell_type": "code",
   "execution_count": 21,
   "id": "00854361",
   "metadata": {},
   "outputs": [],
   "source": [
    "class MySimpleLinearRegression:\n",
    "    \n",
    "    def __init__ (self):\n",
    "        self.m = None\n",
    "        self.b = None\n",
    "        \n",
    "    def fit(self,X_train,y_train):\n",
    "        \n",
    "        num = 0\n",
    "        den = 0\n",
    "        \n",
    "        for i in range(X_train.shape[0]):\n",
    "            \n",
    "            num = num + ((y_train[i]-y_train.mean())*(X_train[i]-X_train.mean()))\n",
    "            den = den + ((X_train[i]-X_train.mean())*(X_train[i]-X_train.mean()))\n",
    "            \n",
    "        self.m = num/den\n",
    "        self.b = y_train.mean() - (X_train.mean()*self.m)\n",
    "    \n",
    "    def predict(self,X_test):\n",
    "        \n",
    "        return (self.m*X_test)+self.b"
   ]
  },
  {
   "cell_type": "markdown",
   "id": "9e86f620",
   "metadata": {},
   "source": [
    "# Multiple Linear Regression"
   ]
  },
  {
   "cell_type": "code",
   "execution_count": 15,
   "id": "ecd3c730",
   "metadata": {},
   "outputs": [],
   "source": [
    "class MyMultipleLinearRegression:\n",
    "    \n",
    "    def __init__(self):\n",
    "        self.coef_ = None\n",
    "        self.intercept_ = None\n",
    "    \n",
    "    def fit(self,X_train,y_train):\n",
    "        X_train = np.insert(X_train,0,1,axis = 1)\n",
    "        \n",
    "        betas = np.linalg.inv(np.dot(X_train.T,X_train)).dot(X_train.T).dot(y_train)\n",
    "        self.intercept_ = betas[0]\n",
    "        self.coef_ = betas[1:]\n",
    "        \n",
    "    def predict(self,X_test):\n",
    "        y_pred = np.dot(X_test,self.coef_) + self.intercept_ \n",
    "        return y_pred"
   ]
  },
  {
   "cell_type": "markdown",
   "id": "ed8d6242",
   "metadata": {},
   "source": [
    "# Gradient Descent"
   ]
  },
  {
   "cell_type": "code",
   "execution_count": 36,
   "id": "0d8d4a99",
   "metadata": {},
   "outputs": [],
   "source": [
    "class GradientDescent:\n",
    "    def __init__(self,learning_rate,epochs):\n",
    "        self.m = 10000\n",
    "        self.b = 10000\n",
    "        self.learning_rate = learning_rate\n",
    "        self.epochs= epochs\n",
    "        \n",
    "    def fit(self,X_train,y_train):\n",
    "        \n",
    "        for i in range(self.epochs):\n",
    "            loss_slope_b = -2*np.sum(y_train - self.m*X_train.ravel() -self.b)\n",
    "            loss_slope_m = -2*np.sum((y_train - self.m*X_train.ravel() -self.b)*X_train.ravel())\n",
    "            \n",
    "            self.b = self.b- (self.learning_rate*loss_slope_b)\n",
    "            self.m = self.m- (self.learning_rate*loss_slope_m)\n",
    "            \n",
    "        print(self.m, self.b)\n",
    "        \n",
    "    def predict(self,X_test):\n",
    "        \n",
    "        return self.m*X_test +self.b"
   ]
  },
  {
   "cell_type": "markdown",
   "id": "a5d5fe65",
   "metadata": {},
   "source": [
    "# Batch Gradient Descent for Multiple variable"
   ]
  },
  {
   "cell_type": "code",
   "execution_count": 70,
   "id": "04af51df",
   "metadata": {},
   "outputs": [],
   "source": [
    "class GDRegressor:\n",
    "    def __init__(self, learning_rate = 0.2,epochs = 100):\n",
    "        \n",
    "        self.intercept_ = None\n",
    "        self.coef_ = None\n",
    "        self.learning_rate = learning_rate\n",
    "        self.epochs = epochs\n",
    "        \n",
    "    def fit(self,X_train,y_train):\n",
    "        \n",
    "        self.intercept_ = 0\n",
    "        self.coef_ = np.ones(X_train.shape[1])\n",
    "        \n",
    "        for i in range(self.epochs):\n",
    "            \n",
    "            y_hat = np.dot(X_train,self.coef_) + self.intercept_\n",
    "            intercept_der = -2*np.mean(y_train - y_hat)\n",
    "            self.intercept_ = self.intercept_ - (self.learning_rate*intercept_der)\n",
    "            \n",
    "            coef_der = -2*np.dot((y_train-y_hat),X_train)/X_train.shape[0]\n",
    "            self.coef_ = self.coef_ - (self.learning_rate*coef_der)\n",
    "            \n",
    "        print(self.intercept_,self.coef_)\n",
    "        \n",
    "    def predict(self,X_test):\n",
    "        return np.dot(X_test,self.coef_) + self.intercept_"
   ]
  },
  {
   "cell_type": "markdown",
   "id": "382d3c52",
   "metadata": {},
   "source": [
    "# Stochastic Gradient Descent"
   ]
  },
  {
   "cell_type": "code",
   "execution_count": 1,
   "id": "f73a861d",
   "metadata": {},
   "outputs": [],
   "source": [
    "class SGDRegressor():\n",
    "    \n",
    "    def __init__ (self, learning_rate = 0.2,epochs = 100):\n",
    "        \n",
    "        self.intercept_ = None\n",
    "        self.coef_ = None\n",
    "        self.learning_rate = learning_rate\n",
    "        self.epochs = epochs\n",
    "        \n",
    "    def fit(self,X_train,y_train):\n",
    "        \n",
    "        self.intercept_ = 0\n",
    "        self.coef_ = np.ones(X_train.shape[1])\n",
    "        \n",
    "        for i in range(self.epochs):\n",
    "            for j in range(X_train.shape[0]):\n",
    "                #generating a random number\n",
    "                idx = np.random.randint(0,X_train.shape[0])\n",
    "        \n",
    "                y_hat = np.dot(X_train[idx],self.coef_) + self.intercept_\n",
    "            \n",
    "                intercept_der = -2*(y_train[idx] - y_hat)\n",
    "                self.intercept_ = self.intercept_ - (self.learning_rate*intercept_der)\n",
    "\n",
    "                coef_der = -2*np.dot((y_train[idx]-y_hat),X_train[idx])\n",
    "                self.coef_ = self.coef_ - (self.learning_rate*coef_der)\n",
    "            \n",
    "        print(self.intercept_,self.coef_)\n",
    "        \n",
    "    def predict(self,X_test):\n",
    "        return np.dot(X_test,self.coef_) + self.intercept_"
   ]
  },
  {
   "cell_type": "markdown",
   "id": "8bc0446f",
   "metadata": {},
   "source": [
    "# Mini Batch Gradient Descent"
   ]
  },
  {
   "cell_type": "code",
   "execution_count": 2,
   "id": "c4da6204",
   "metadata": {},
   "outputs": [],
   "source": [
    "import random\n",
    "\n",
    "class MBGDRegressor:\n",
    "    \n",
    "    def __init__(self,batch_size,learning_rate=0.01,epochs=100):\n",
    "        \n",
    "        self.coef_ = None\n",
    "        self.intercept_ = None\n",
    "        self.lr = learning_rate\n",
    "        self.epochs = epochs\n",
    "        self.batch_size = batch_size\n",
    "        \n",
    "    def fit(self,X_train,y_train):\n",
    "        # init your coefs\n",
    "        self.intercept_ = 0\n",
    "        self.coef_ = np.ones(X_train.shape[1])\n",
    "        \n",
    "        for i in range(self.epochs):\n",
    "            \n",
    "            for j in range(int(X_train.shape[0]/self.batch_size)):\n",
    "                \n",
    "                idx = random.sample(range(X_train.shape[0]),self.batch_size)\n",
    "                \n",
    "                y_hat = np.dot(X_train[idx],self.coef_) + self.intercept_\n",
    "                #print(\"Shape of y_hat\",y_hat.shape)\n",
    "                intercept_der = -2 * np.mean(y_train[idx] - y_hat)\n",
    "                self.intercept_ = self.intercept_ - (self.lr * intercept_der)\n",
    "\n",
    "                coef_der = -2 * np.dot((y_train[idx] - y_hat),X_train[idx])\n",
    "                self.coef_ = self.coef_ - (self.lr * coef_der)\n",
    "        \n",
    "        print(self.intercept_,self.coef_)\n",
    "    \n",
    "    def predict(self,X_test):\n",
    "        return np.dot(X_test,self.coef_) + self.intercept_"
   ]
  },
  {
   "cell_type": "markdown",
   "id": "baa7a502",
   "metadata": {},
   "source": [
    "# Simple Linear Ridge Regression"
   ]
  },
  {
   "cell_type": "code",
   "execution_count": 14,
   "id": "0a6131c9",
   "metadata": {},
   "outputs": [],
   "source": [
    "class MySimpleLinearRidge:\n",
    "    \n",
    "    def __init__(self,alpha = 0.1):\n",
    "        \n",
    "        self.coef_ = None\n",
    "        self.intercept_ = None\n",
    "        self.alpha = alpha\n",
    "        \n",
    "    def fit(self,X_train,y_train):\n",
    "        \n",
    "        num = 0\n",
    "        den = 0\n",
    "        for i in range(X_train.shape[0]):\n",
    "            num = num+ ((y_train[i]-y_train.mean())*(X_train[i]-X_train.mean()))\n",
    "            den = den + ((X_train[i]-X_train.mean())*(X_train[i]-X_train.mean()))\n",
    "                      \n",
    "        self.coef_ = num/(den + self.alpha)\n",
    "        self.intercept_ = y_train.mean() - (self.coef_*X_train.mean())\n",
    "    \n",
    "        print(self.coef_)\n",
    "        print(self.intercept_)\n",
    "    \n",
    "    def predict(self,X_test):\n",
    "        return X_test*self.coef_ + self.intercept_\n",
    "        "
   ]
  },
  {
   "cell_type": "markdown",
   "id": "587380aa",
   "metadata": {},
   "source": [
    "# Multiple Linear Ridge Regression"
   ]
  },
  {
   "cell_type": "code",
   "execution_count": 24,
   "id": "984daad7",
   "metadata": {},
   "outputs": [],
   "source": [
    "class MyMultipleLinearRidge:\n",
    "    \n",
    "    def __init__(self,alpha = 0.01):\n",
    "        self.alpha = alpha\n",
    "        self.coef_ = None\n",
    "        self.intercept_ = None\n",
    "        \n",
    "    def fit(self,X_train,y_train):\n",
    "        X_train = np.insert(X_train,0,1,axis = 1)\n",
    "        I=np.identity(X_train.shape[1])\n",
    "        I[0][0] = 0 #this is done to not add intercept  term while adding coefficient\n",
    "        result = np.linalg.inv(np.dot(X_train.T,X_train)+self.alpha*I).dot(X_train.T).dot(y_train)\n",
    "        self.intercept_ = result[0]\n",
    "        self.coef_ = result[1:]\n",
    "        \n",
    "        print(self.coef_,self.intercept_)\n",
    "        \n",
    "    \n",
    "    def predict(self, X_test):\n",
    "        return np.dot(X_test,self.coef_) + self.intercept_"
   ]
  },
  {
   "cell_type": "code",
   "execution_count": null,
   "id": "2dea9677",
   "metadata": {},
   "outputs": [],
   "source": []
  }
 ],
 "metadata": {
  "kernelspec": {
   "display_name": "Python 3 (ipykernel)",
   "language": "python",
   "name": "python3"
  },
  "language_info": {
   "codemirror_mode": {
    "name": "ipython",
    "version": 3
   },
   "file_extension": ".py",
   "mimetype": "text/x-python",
   "name": "python",
   "nbconvert_exporter": "python",
   "pygments_lexer": "ipython3",
   "version": "3.9.12"
  }
 },
 "nbformat": 4,
 "nbformat_minor": 5
}
