{
 "cells": [
  {
   "cell_type": "markdown",
   "id": "f76649ed",
   "metadata": {},
   "source": [
    "# Code"
   ]
  },
  {
   "cell_type": "code",
   "execution_count": 1,
   "id": "fcee0695",
   "metadata": {},
   "outputs": [],
   "source": [
    "class MyRidge:\n",
    "    \n",
    "    def __init__(self,alpha = 0.1):\n",
    "        self.alpha = alpha\n",
    "        self.coef_ = None\n",
    "        self.intercept_ = None\n",
    "        \n",
    "    def fit(self,X_train,y_train):\n",
    "        \n",
    "        X_train = np.insert(X_train,0,1,axis = 1)\n",
    "        I = np.identity(X_train.shape[1])\n",
    "        I[0][0] = 0 #converting the first element of Identity matrix to 0 as it is being done by Ridge regression in sklearn\n",
    "        result = np.linalg.inv(np.dot(X_train.T,X_train) + self.alpha*I).dot(X_train.T).dot(y_train)\n",
    "        self.intercept_ = result[0]\n",
    "        self.coef_ = result[1:]\n",
    "        \n",
    "        \n",
    "    def predict(self,X_test):\n",
    "        return np.dot(X_test,self.coef_) + self.intercept_"
   ]
  },
  {
   "cell_type": "markdown",
   "id": "c0a53d0d",
   "metadata": {},
   "source": [
    "# Test"
   ]
  },
  {
   "cell_type": "code",
   "execution_count": 2,
   "id": "d30b264a",
   "metadata": {},
   "outputs": [],
   "source": [
    "from sklearn.datasets import load_diabetes\n",
    "from sklearn.metrics import r2_score\n",
    "import numpy as np"
   ]
  },
  {
   "cell_type": "code",
   "execution_count": 3,
   "id": "98c2a449",
   "metadata": {},
   "outputs": [],
   "source": [
    "X,y = load_diabetes(return_X_y=True)"
   ]
  },
  {
   "cell_type": "code",
   "execution_count": 4,
   "id": "dede006d",
   "metadata": {},
   "outputs": [],
   "source": [
    "from sklearn.model_selection import train_test_split as split"
   ]
  },
  {
   "cell_type": "code",
   "execution_count": 5,
   "id": "79c03ac5",
   "metadata": {},
   "outputs": [],
   "source": [
    "X_train,X_test,y_train,y_test = split(X,y,train_size=0.8,random_state=4)"
   ]
  },
  {
   "cell_type": "code",
   "execution_count": 6,
   "id": "7ca92bf7",
   "metadata": {},
   "outputs": [],
   "source": [
    "from sklearn.linear_model import Ridge"
   ]
  },
  {
   "cell_type": "code",
   "execution_count": 7,
   "id": "cc345891",
   "metadata": {},
   "outputs": [],
   "source": [
    "reg = Ridge(alpha = 0.1, solver='cholesky')"
   ]
  },
  {
   "cell_type": "code",
   "execution_count": 8,
   "id": "d783cec1",
   "metadata": {},
   "outputs": [
    {
     "data": {
      "text/plain": [
       "0.4693066828920974"
      ]
     },
     "execution_count": 8,
     "metadata": {},
     "output_type": "execute_result"
    }
   ],
   "source": [
    "reg.fit(X_train,y_train)\n",
    "r2_score(y_test,reg.predict(X_test))"
   ]
  },
  {
   "cell_type": "code",
   "execution_count": 9,
   "id": "11e17c50",
   "metadata": {},
   "outputs": [
    {
     "name": "stdout",
     "output_type": "stream",
     "text": [
      "[  44.02025512 -241.69666596  452.98163524  332.04993719  -76.34010147\n",
      "  -68.52063199 -164.98817213  149.9687712   431.61985919   58.51762582]\n",
      "150.89050209333024\n"
     ]
    }
   ],
   "source": [
    "print(reg.coef_)\n",
    "print(reg.intercept_)"
   ]
  },
  {
   "cell_type": "code",
   "execution_count": 20,
   "id": "dd885211",
   "metadata": {},
   "outputs": [],
   "source": [
    "reg2 = MyRidge()"
   ]
  },
  {
   "cell_type": "code",
   "execution_count": 21,
   "id": "f4ed75a3",
   "metadata": {},
   "outputs": [],
   "source": [
    "reg2.fit(X_train,y_train)"
   ]
  },
  {
   "cell_type": "code",
   "execution_count": 22,
   "id": "f4ac7ebb",
   "metadata": {},
   "outputs": [
    {
     "data": {
      "text/plain": [
       "array([ 79.11738445, 110.53440275, 167.91705474,  56.09150247,\n",
       "       176.28765635, 143.11908717, 113.55532562, 119.62429433,\n",
       "        81.15759443,  76.76067161, 100.57845092, 186.51640161,\n",
       "       176.92731932, 129.16732411, 158.03884718, 140.69272395,\n",
       "       177.99128151, 121.8130345 , 108.91210896, 179.34862941,\n",
       "       216.25818762, 177.22058252,  55.02311446, 221.15506499,\n",
       "        64.88483064, 103.10845413, 155.93046938, 173.41797373,\n",
       "        72.19563952,  79.27307754, 189.87201598, 112.43923117,\n",
       "       246.02802504, 180.68523979, 102.9809626 , 167.10987648,\n",
       "       171.61241978, 160.42392574, 143.75142955, 155.43929465,\n",
       "       192.81391913, 170.20962953, 233.02600287,  76.45609791,\n",
       "       232.59712921, 105.94746019, 150.03815952,  70.13220181,\n",
       "       193.68136446, 137.73164927, 112.56588595, 104.42114831,\n",
       "       153.71275688, 216.25868239,  62.56931319, 186.12678073,\n",
       "       102.92545509,  92.71303066, 182.75713326, 218.66383132,\n",
       "       125.02294677, 102.93098743, 165.70841107, 240.38918121,\n",
       "       110.34284302, 167.33113306, 128.36497079, 195.24654248,\n",
       "       218.36088702, 186.00190018, 146.86392469, 157.40898321,\n",
       "       157.98802778, 213.81843783, 160.40325191, 203.28136528,\n",
       "       102.03665207, 181.12807236, 138.49725162, 157.47547044,\n",
       "       153.60609629, 192.24348735, 149.53485387, 150.03484546,\n",
       "        69.78312324, 175.73954467, 216.73850245, 115.22463507,\n",
       "       137.78705426])"
      ]
     },
     "execution_count": 22,
     "metadata": {},
     "output_type": "execute_result"
    }
   ],
   "source": [
    "reg2.predict(X_test)"
   ]
  },
  {
   "cell_type": "code",
   "execution_count": 23,
   "id": "4927d702",
   "metadata": {},
   "outputs": [
    {
     "data": {
      "text/plain": [
       "0.46930668289209776"
      ]
     },
     "execution_count": 23,
     "metadata": {},
     "output_type": "execute_result"
    }
   ],
   "source": [
    "r2_score(y_test,reg2.predict(X_test))"
   ]
  },
  {
   "cell_type": "code",
   "execution_count": 24,
   "id": "d4fc8899",
   "metadata": {},
   "outputs": [
    {
     "data": {
      "text/plain": [
       "0.4693066828920974"
      ]
     },
     "execution_count": 24,
     "metadata": {},
     "output_type": "execute_result"
    }
   ],
   "source": [
    "r2_score(y_test,reg.predict(X_test))"
   ]
  },
  {
   "cell_type": "code",
   "execution_count": null,
   "id": "b46fa523",
   "metadata": {},
   "outputs": [],
   "source": []
  }
 ],
 "metadata": {
  "kernelspec": {
   "display_name": "Python 3 (ipykernel)",
   "language": "python",
   "name": "python3"
  },
  "language_info": {
   "codemirror_mode": {
    "name": "ipython",
    "version": 3
   },
   "file_extension": ".py",
   "mimetype": "text/x-python",
   "name": "python",
   "nbconvert_exporter": "python",
   "pygments_lexer": "ipython3",
   "version": "3.9.12"
  }
 },
 "nbformat": 4,
 "nbformat_minor": 5
}
